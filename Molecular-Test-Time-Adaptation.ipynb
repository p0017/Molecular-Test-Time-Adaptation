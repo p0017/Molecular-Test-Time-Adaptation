{
 "cells": [
  {
   "cell_type": "code",
   "execution_count": 1,
   "id": "ee7ec02f-bc61-4c89-987d-b3025b2a474f",
   "metadata": {},
   "outputs": [
    {
     "name": "stdout",
     "output_type": "stream",
     "text": [
      "cuda\n"
     ]
    },
    {
     "data": {
      "text/plain": [
       "<torch._C.Generator at 0x1e2e6fb4fb0>"
      ]
     },
     "execution_count": 1,
     "metadata": {},
     "output_type": "execute_result"
    }
   ],
   "source": [
    "import os\n",
    "from copy import deepcopy\n",
    "import numpy as np\n",
    "import pandas as pd\n",
    "from rdkit import Chem\n",
    "from sklearn.metrics import root_mean_squared_error\n",
    "from sklearn.manifold import TSNE\n",
    "from umap import UMAP\n",
    "import torch\n",
    "from torch import nn\n",
    "import optuna\n",
    "import importlib\n",
    "\n",
    "device = torch.device(\"cuda\" if torch.cuda.is_available() else \"cpu\")\n",
    "print(device)\n",
    "\n",
    "torch.manual_seed(0)"
   ]
  },
  {
   "cell_type": "code",
   "execution_count": 2,
   "id": "d09884a6",
   "metadata": {},
   "outputs": [],
   "source": [
    "def reload_utils():\n",
    "    \"\"\"Reload all utils modules\"\"\"\n",
    "    import utils.data_utils\n",
    "    import utils.model_utils\n",
    "    import utils.train_test_utils\n",
    "    import utils.plot_utils\n",
    "\n",
    "    importlib.reload(utils.data_utils)\n",
    "    importlib.reload(utils.model_utils)\n",
    "    importlib.reload(utils.train_test_utils)\n",
    "    importlib.reload(utils.plot_utils)\n",
    "\n",
    "\n",
    "reload_utils()\n",
    "\n",
    "# Import custom modules\n",
    "from utils.data_utils import (\n",
    "    construct_loader,\n",
    "    get_mol_infos,\n",
    ")\n",
    "from utils.model_utils import GNN\n",
    "from utils.train_test_utils import (\n",
    "    Standardizer,\n",
    "    train_epoch,\n",
    "    train_epoch_without_SSL,\n",
    "    pred,\n",
    "    pred_with_TTA,\n",
    "    embeddings_with_TTA,\n",
    ")\n",
    "from utils.plot_utils import (\n",
    "    solubility_histogram,\n",
    "    atom_count_histogram,\n",
    "    functional_group_histogram,\n",
    "    solubility_histogram_shift,\n",
    "    solubility_embeddings,\n",
    "    sets_embeddings,\n",
    "    centroid_embeddings,\n",
    "    loss_plot,\n",
    ")"
   ]
  },
  {
   "cell_type": "code",
   "execution_count": 3,
   "id": "b0998c29",
   "metadata": {},
   "outputs": [],
   "source": [
    "BATCH_SIZE = 1024\n",
    "NUM_EPOCHS = 10\n",
    "\n",
    "HYPERPARAM_OPT = True  # Optional optimization of hyperparameters\n",
    "\n",
    "# If wanted, we can load an already trained model\n",
    "SAVE_MODEL = False  # Set to False if you don't want to save\n",
    "LOAD_TRAINED_MODEL = False  # Set to True to skip training and load existing model\n",
    "SAVE_PLOTS = False\n",
    "\n",
    "assert not (\n",
    "    LOAD_TRAINED_MODEL and HYPERPARAM_OPT\n",
    "), \"Cannot load a model and optimize hyperparameters at the same time.\"\n",
    "assert not (\n",
    "    LOAD_TRAINED_MODEL and SAVE_MODEL\n",
    "), \"Cannot load a model and save it at the same time.\""
   ]
  },
  {
   "cell_type": "markdown",
   "id": "089eeedd",
   "metadata": {},
   "source": [
    "# Data"
   ]
  },
  {
   "cell_type": "markdown",
   "id": "19f33b3f",
   "metadata": {},
   "source": [
    "### Loading the Data"
   ]
  },
  {
   "cell_type": "code",
   "execution_count": 4,
   "id": "e699e0db",
   "metadata": {},
   "outputs": [
    {
     "name": "stdout",
     "output_type": "stream",
     "text": [
      "Removing [1263, 1444, 3605, 3702] due to single atoms\n"
     ]
    },
    {
     "name": "stderr",
     "output_type": "stream",
     "text": [
      "[18:00:54] Explicit valence for atom # 1 P, 6, is greater than permitted\n"
     ]
    },
    {
     "name": "stdout",
     "output_type": "stream",
     "text": [
      "Removing [667] due to Nonetypes\n",
      "Removing [471, 503, 589, 591, 592, 593, 594, 610, 613, 641, 643, 647, 649, 652, 653, 654, 656, 658, 676, 681, 693, 744, 759, 763, 769, 773, 777, 807, 809, 811, 813, 869, 902, 969, 998] due to single atoms\n"
     ]
    }
   ],
   "source": [
    "data_df = pd.read_csv(\"data/AqSolDBc.csv\")\n",
    "# Drop single atoms\n",
    "idx_single = [\n",
    "    i\n",
    "    for i, s in enumerate(data_df[\"SmilesCurated\"])\n",
    "    if Chem.MolFromSmiles(s).GetNumAtoms() == 1 or \".\" in s\n",
    "]\n",
    "\n",
    "data_df = data_df.drop(idx_single)\n",
    "if len(idx_single) > 0:\n",
    "    print(f\"Removing {idx_single} due to single atoms\")\n",
    "\n",
    "test_df = pd.read_csv(\"data/OChemUnseen.csv\")\n",
    "# Drop some Nonetypes\n",
    "# Got an error for a SMILES which was None\n",
    "idx_nonetype = [\n",
    "    i for i, s in enumerate(test_df[\"SMILES\"]) if Chem.MolFromSmiles(s) is None\n",
    "]\n",
    "\n",
    "test_df = test_df.drop(idx_nonetype)\n",
    "if len(idx_nonetype) > 0:\n",
    "    print(f\"Removing {idx_nonetype} due to Nonetypes\")\n",
    "\n",
    "# Drop single atoms\n",
    "idx_single = [\n",
    "    i\n",
    "    for i, s in enumerate(test_df[\"SMILES\"])\n",
    "    if Chem.MolFromSmiles(s).GetNumAtoms() == 1 or \".\" in s\n",
    "]\n",
    "\n",
    "test_df = test_df.drop(idx_single)\n",
    "if len(idx_single) > 0:\n",
    "    print(f\"Removing {idx_single} due to single atoms\")\n",
    "\n",
    "# Get additional information on the molecules, such as number of atoms, functional groups\n",
    "data_df_updated = get_mol_infos(data_df, \"SmilesCurated\")\n",
    "test_df_updated = get_mol_infos(test_df, \"SMILES\")"
   ]
  },
  {
   "cell_type": "markdown",
   "id": "52e21d2f",
   "metadata": {},
   "source": [
    "### Analyzing the Data"
   ]
  },
  {
   "cell_type": "code",
   "execution_count": 5,
   "id": "097966cb",
   "metadata": {},
   "outputs": [
    {
     "data": {
      "image/png": "[encoded data removed]",
      "text/plain": [
       "<Figure size 800x400 with 1 Axes>"
      ]
     },
     "metadata": {},
     "output_type": "display_data"
    }
   ],
   "source": [
    "solubility_histogram(data_df_updated, test_df_updated, save_plots=SAVE_PLOTS)"
   ]
  },
  {
   "cell_type": "code",
   "execution_count": 6,
   "id": "3c14db68",
   "metadata": {},
   "outputs": [
    {
     "data": {
      "image/png": "[encoded data removed]",
      "text/plain": [
       "<Figure size 800x400 with 1 Axes>"
      ]
     },
     "metadata": {},
     "output_type": "display_data"
    }
   ],
   "source": [
    "atom_count_histogram(data_df_updated, test_df_updated, save_plots=SAVE_PLOTS)"
   ]
  },
  {
   "cell_type": "code",
   "execution_count": 7,
   "id": "d8a07e19",
   "metadata": {},
   "outputs": [
    {
     "name": "stderr",
     "output_type": "stream",
     "text": [
      "d:\\Philipp\\Studium\\Molecular-Test-Time-Adaptation\\utils\\plot_utils.py:255: UserWarning: Tight layout not applied. tight_layout cannot make axes width small enough to accommodate all axes decorations\n",
      "  plt.tight_layout()\n"
     ]
    },
    {
     "data": {
      "image/png": "[encoded data removed]",
      "text/plain": [
       "<Figure size 800x600 with 8 Axes>"
      ]
     },
     "metadata": {},
     "output_type": "display_data"
    }
   ],
   "source": [
    "functional_group_histogram(data_df_updated, test_df_updated, save_plots=SAVE_PLOTS)"
   ]
  },
  {
   "cell_type": "markdown",
   "id": "ad90dee6",
   "metadata": {},
   "source": [
    "### Creating a distribution shift"
   ]
  },
  {
   "cell_type": "code",
   "execution_count": 8,
   "id": "8a790637",
   "metadata": {},
   "outputs": [
    {
     "name": "stdout",
     "output_type": "stream",
     "text": [
      "Dataset size before filtering: 8047, 2251\n",
      "Dataset size after filtering: 4755, 259, 553, 153\n"
     ]
    }
   ],
   "source": [
    "print(f\"Dataset size before filtering: {len(data_df_updated)}, {len(test_df_updated)}\")\n",
    "\n",
    "data_df_filtered = data_df_updated[\n",
    "    (data_df_updated[\"num_atoms\"] < 20) & (data_df_updated[\"fr_NH2\"] == 0)\n",
    "]\n",
    "test_df_filtered_20 = test_df_updated[\n",
    "    (test_df_updated[\"num_atoms\"] >= 20) & (test_df_updated[\"fr_NH2\"] == 0)\n",
    "]\n",
    "test_df_filtered_nh = test_df_updated[\n",
    "    (test_df_updated[\"num_atoms\"] >= 20) & (test_df_updated[\"fr_NH2\"] > 0)\n",
    "]\n",
    "\n",
    "train_df = data_df_filtered[data_df_filtered[\"num_atoms\"] > 5]\n",
    "val_df = data_df_filtered[data_df_filtered[\"num_atoms\"] <= 5]\n",
    "\n",
    "# We are increasing the already existing distribution shift between the train and test sets by filtering for atom counts and functional groups\n",
    "# The train and validation sets will contain molecules with less than 20 atoms and no NH2 functional groups\n",
    "# Specifically, the train set will also only contain molecules with more than 5 atoms\n",
    "# The validation set will also only contain molecules with 5 atoms or less\n",
    "\n",
    "# The first test set will contain molecules with more than 20 atoms\n",
    "# The second test set will contain molecules with more than 20 atoms and NH2 functional groups\n",
    "\n",
    "print(\n",
    "    f\"Dataset size after filtering: {len(train_df)}, {len(val_df)}, {len(test_df_filtered_20)}, {len(test_df_filtered_nh)}\"\n",
    ")"
   ]
  },
  {
   "cell_type": "code",
   "execution_count": 9,
   "id": "199f71f7",
   "metadata": {},
   "outputs": [
    {
     "data": {
      "image/png": "[encoded data removed]",
      "text/plain": [
       "<Figure size 800x400 with 1 Axes>"
      ]
     },
     "metadata": {},
     "output_type": "display_data"
    }
   ],
   "source": [
    "solubility_histogram_shift(\n",
    "    train_df, val_df, test_df_filtered_20, test_df_filtered_nh, save_plots=SAVE_PLOTS\n",
    ")"
   ]
  },
  {
   "cell_type": "markdown",
   "id": "26e82038",
   "metadata": {},
   "source": [
    "# Training"
   ]
  },
  {
   "cell_type": "code",
   "execution_count": 10,
   "id": "144f5af2",
   "metadata": {},
   "outputs": [
    {
     "name": "stdout",
     "output_type": "stream",
     "text": [
      "Train size: 4755, Val size: 259, Test size 20 Atom: 553, Test size NH2: 153\n"
     ]
    }
   ],
   "source": [
    "train_loader = construct_loader(\n",
    "    train_df, \"SmilesCurated\", \"ExperimentalLogS\", shuffle=True, batch_size=BATCH_SIZE\n",
    ")\n",
    "val_loader = construct_loader(\n",
    "    val_df, \"SmilesCurated\", \"ExperimentalLogS\", shuffle=False, batch_size=1\n",
    ")\n",
    "\n",
    "test_loader_20 = construct_loader(\n",
    "    test_df_filtered_20, \"SMILES\", \"LogS\", shuffle=False, batch_size=1\n",
    ")\n",
    "test_loader_nh = construct_loader(\n",
    "    test_df_filtered_nh, \"SMILES\", \"LogS\", shuffle=False, batch_size=1\n",
    ")\n",
    "print(\n",
    "    f\"Train size: {len(train_loader.dataset)}, Val size: {len(val_loader.dataset)}, Test size 20 Atom: {len(test_loader_20.dataset)}, Test size NH2: {len(test_loader_nh.dataset)}\"\n",
    ")\n",
    "\n",
    "# Standardizer for the solubility labels\n",
    "mean = np.mean(train_loader.dataset.labels)\n",
    "std = np.std(train_loader.dataset.labels)\n",
    "stdzer = Standardizer(mean, std)"
   ]
  },
  {
   "cell_type": "markdown",
   "id": "5304ee4a",
   "metadata": {},
   "source": [
    "### Train Hyperparameter optimization"
   ]
  },
  {
   "cell_type": "code",
   "execution_count": 11,
   "id": "e99b3607",
   "metadata": {},
   "outputs": [],
   "source": [
    "# Optional hyperparameter optimization on the validation set\n",
    "\n",
    "def objective(trial):\n",
    "    learning_rate = trial.suggest_float(\"learning_rate\", 1e-4, 1e-2, log=True)\n",
    "    # Size of the encoder-decoder bottleneck, should not be larger than 32\n",
    "    hidden_size = trial.suggest_categorical(\"hidden_size\", [16])\n",
    "    # Also encoder depth should not be too large\n",
    "    depth = trial.suggest_categorical(\"depth\", [2, 3, 4])\n",
    "    weight_decay = trial.suggest_float(\"weight_decay\", 1e-6, 1e-4, log=True)\n",
    "\n",
    "    model = GNN(\n",
    "        train_loader.dataset.num_node_features,\n",
    "        train_loader.dataset.num_edge_features,\n",
    "        hidden_size=hidden_size,\n",
    "        depth=depth\n",
    "    ).to(device)\n",
    "\n",
    "    optimizer = torch.optim.Adam(\n",
    "        model.parameters(),\n",
    "        lr=learning_rate,\n",
    "        weight_decay=weight_decay\n",
    "    )\n",
    "\n",
    "    loss = nn.MSELoss(reduction=\"mean\")\n",
    "\n",
    "    # By default, we train for a third of the epochs used in the main training to get a rough estimate\n",
    "    for epoch in range(NUM_EPOCHS // 3):\n",
    "        train_epoch(model, train_loader, optimizer, loss, stdzer)\n",
    "\n",
    "        preds = pred(model, val_loader, mode=\"predict\", stdzer=stdzer)\n",
    "        rmse_pred = root_mean_squared_error(preds, val_loader.dataset.labels)\n",
    "\n",
    "        trial.report(rmse_pred, epoch)\n",
    "        if trial.should_prune():\n",
    "            raise optuna.exceptions.TrialPruned()\n",
    "\n",
    "    return rmse_pred"
   ]
  },
  {
   "cell_type": "code",
   "execution_count": null,
   "id": "e483b18e",
   "metadata": {},
   "outputs": [
    {
     "name": "stderr",
     "output_type": "stream",
     "text": [
      "[I 2025-07-03 18:01:03,403] A new study created in memory with name: hyperparam_opt\n",
      "[I 2025-07-03 18:02:35,543] Trial 1 finished with value: 2.73059778010036 and parameters: {'learning_rate': 0.000329336458644809, 'hidden_size': 16, 'depth': 2, 'weight_decay': 1.1461708155165002e-06}. Best is trial 1 with value: 2.73059778010036.\n",
      "[I 2025-07-03 18:02:36,594] Trial 0 finished with value: 2.160777413288718 and parameters: {'learning_rate': 0.00016506848907345926, 'hidden_size': 16, 'depth': 3, 'weight_decay': 6.011879074481796e-05}. Best is trial 0 with value: 2.160777413288718.\n",
      "[I 2025-07-03 18:03:35,190] Trial 2 finished with value: 2.594356549132999 and parameters: {'learning_rate': 0.000292792984932328, 'hidden_size': 16, 'depth': 2, 'weight_decay': 2.4426310541948247e-06}. Best is trial 0 with value: 2.160777413288718.\n",
      "[I 2025-07-03 18:03:35,701] Trial 3 finished with value: 2.6363094710789143 and parameters: {'learning_rate': 0.0006695123104622977, 'hidden_size': 16, 'depth': 2, 'weight_decay': 1.394077840820616e-06}. Best is trial 0 with value: 2.160777413288718.\n"
     ]
    }
   ],
   "source": [
    "if HYPERPARAM_OPT:\n",
    "    study = optuna.create_study(\n",
    "        direction=\"minimize\",\n",
    "        sampler=optuna.samplers.TPESampler(),\n",
    "        pruner=optuna.pruners.MedianPruner(\n",
    "            n_startup_trials=8, n_warmup_steps=NUM_EPOCHS // 6, interval_steps=2\n",
    "        ),\n",
    "        study_name=\"hyperparam_opt\",\n",
    "    )\n",
    "\n",
    "    study.optimize(objective, n_trials=20, n_jobs=2)\n",
    "\n",
    "    print(f\"Best learning rate: {study.best_params['learning_rate']:.4f}\")\n",
    "    print(f\"Best hidden size: {study.best_params['hidden_size']:.4f}\")\n",
    "    print(f\"Best depth: {study.best_params['depth']:.4f}\")\n",
    "    print(f\"Best weight decay: {study.best_params['weight_decay']:.8f}\")\n",
    "\n",
    "    study_results = study.trials_dataframe()\n",
    "    study_results.to_csv(\"data/hyperparam_opt.csv\", index=False)\n",
    "    print(\"Study results saved to hyperparam_opt.csv\")\n",
    "\n",
    "    learning_rate = study.best_params[\"learning_rate\"]\n",
    "    hidden_size = study.best_params[\"hidden_size\"]\n",
    "    depth = study.best_params[\"depth\"]\n",
    "    weight_decay = study.best_params[\"weight_decay\"]\n",
    "\n",
    "    torch.cuda.empty_cache()\n",
    "\n",
    "# Standard hyperparameters are the result of a previous hyperparameter optimization\n",
    "else:\n",
    "    learning_rate = 0.00016\n",
    "    hidden_size = 16\n",
    "    depth = 3\n",
    "    weight_decay = 6e-5"
   ]
  },
  {
   "cell_type": "markdown",
   "id": "1d9223e9",
   "metadata": {},
   "source": [
    "### Training on both Tasks"
   ]
  },
  {
   "cell_type": "code",
   "execution_count": null,
   "id": "014f216f",
   "metadata": {},
   "outputs": [],
   "source": [
    "model = GNN(\n",
    "    train_loader.dataset.num_node_features,\n",
    "    train_loader.dataset.num_edge_features,\n",
    "    hidden_size=hidden_size,\n",
    "    depth=depth\n",
    ").to(device)\n",
    "\n",
    "optimizer = torch.optim.Adam(\n",
    "    model.parameters(),\n",
    "    lr=learning_rate,\n",
    "    weight_decay=weight_decay\n",
    ")\n",
    "\n",
    "loss = nn.MSELoss(reduction=\"mean\")\n",
    "print(\"\\n\", model, \"\\n\")"
   ]
  },
  {
   "cell_type": "code",
   "execution_count": null,
   "id": "eaba426e",
   "metadata": {},
   "outputs": [],
   "source": [
    "# If wanted, we can load an already trained model\n",
    "\n",
    "# Path for the best model\n",
    "model_path = os.path.join(\"trained_models\", \"model.pt\")\n",
    "if LOAD_TRAINED_MODEL and os.path.exists(model_path):\n",
    "    # Load pretrained model\n",
    "    print(f\"Loading model from {model_path}\")\n",
    "    model.load_state_dict(torch.load(model_path))\n",
    "    best_model = deepcopy(model).to(device)\n",
    "    # Skip training\n",
    "    NUM_EPOCHS = 0"
   ]
  },
  {
   "cell_type": "code",
   "execution_count": null,
   "id": "f7bbd0f5",
   "metadata": {},
   "outputs": [],
   "source": [
    "# Training the model on both tasks simultaneously\n",
    "if not LOAD_TRAINED_MODEL:\n",
    "    best_model = deepcopy(model).to(device)\n",
    "    best_combined_val_loss = 1e5\n",
    "\n",
    "    combined_train_loss_list = []\n",
    "    denoise_train_loss_list = []\n",
    "    pred_train_loss_list = []\n",
    "\n",
    "    combined_val_loss_list = []\n",
    "    denoise_val_loss_list = []\n",
    "    pred_val_loss_list = []\n",
    "\n",
    "    if NUM_EPOCHS == 0:\n",
    "        print(\"Skipping training, previously trained model was loaded.\")\n",
    "\n",
    "    for epoch in range(0, NUM_EPOCHS):\n",
    "        combined_train_loss, denoise_train_loss, pred_train_loss = train_epoch(\n",
    "            model, train_loader, optimizer, loss, stdzer=stdzer\n",
    "        )\n",
    "\n",
    "        denoised = pred(model, val_loader, mode=\"denoise\", stdzer=stdzer)\n",
    "        node_feature_targets = [\n",
    "            feature\n",
    "            for batch in val_loader\n",
    "            for feature in batch.x.cpu().flatten().tolist()\n",
    "        ]\n",
    "\n",
    "        edge_feature_targets = [\n",
    "            feature\n",
    "            for batch in val_loader\n",
    "            for feature in batch.edge_attr.cpu().flatten().tolist()\n",
    "        ]\n",
    "\n",
    "        denoise_val_loss = root_mean_squared_error(\n",
    "            denoised, node_feature_targets + edge_feature_targets\n",
    "        )\n",
    "\n",
    "        preds = pred(model, val_loader, mode=\"predict\", stdzer=stdzer)\n",
    "        pred_val_loss = root_mean_squared_error(preds, val_loader.dataset.labels)\n",
    "        combined_val_loss = denoise_val_loss + pred_val_loss\n",
    "\n",
    "        print(\n",
    "            f\"Epoch {epoch}  Train Denoise Loss: {denoise_train_loss:.3f}  Train Pred Loss: {pred_train_loss:.3f}  Val Denoise Loss: {denoise_val_loss:.3f}  Val Pred Loss: {pred_val_loss:.3f}\"\n",
    "        )\n",
    "\n",
    "        combined_train_loss_list.append(combined_train_loss)\n",
    "        denoise_train_loss_list.append(denoise_train_loss)\n",
    "        pred_train_loss_list.append(pred_train_loss)\n",
    "        denoise_val_loss_list.append(denoise_val_loss)\n",
    "        pred_val_loss_list.append(pred_val_loss)\n",
    "        combined_val_loss_list.append(combined_val_loss)\n",
    "\n",
    "        if combined_val_loss < best_combined_val_loss:\n",
    "            best_model = deepcopy(model).to(device)\n",
    "            best_combined_val_loss = combined_val_loss\n",
    "\n",
    "            # Save the best model\n",
    "            if SAVE_MODEL:\n",
    "                print(f\"Saving best model based on combined Val Loss...\")\n",
    "                torch.save(\n",
    "                    best_model.state_dict(), os.path.join(\"trained_models\", f\"model.pt\")\n",
    "                )"
   ]
  },
  {
   "cell_type": "code",
   "execution_count": null,
   "id": "5694208f",
   "metadata": {},
   "outputs": [],
   "source": [
    "# Only plot if actual training was done\n",
    "if NUM_EPOCHS != 0:\n",
    "    loss_plot(\n",
    "        combined_train_loss_list,\n",
    "        denoise_train_loss_list,\n",
    "        pred_train_loss_list,\n",
    "        combined_val_loss_list,\n",
    "        denoise_val_loss_list,\n",
    "        pred_val_loss_list,\n",
    "        save_plots=SAVE_PLOTS,\n",
    "    )"
   ]
  },
  {
   "cell_type": "markdown",
   "id": "cb892dff",
   "metadata": {},
   "source": [
    "### TTA Step Size optimization"
   ]
  },
  {
   "cell_type": "code",
   "execution_count": null,
   "id": "81ce8930",
   "metadata": {},
   "outputs": [],
   "source": [
    "def objective(trial):\n",
    "    learning_rate_TTA = trial.suggest_float(\"learning_rate_TTA\", 1e-5, 1e-2, log=True)\n",
    "    n_steps_TTA = trial.suggest_int(\"n_steps_TTA\", 1, 10)\n",
    "\n",
    "    preds = pred_with_TTA(\n",
    "        best_model, val_loader, lr=learning_rate_TTA, n_steps=n_steps_TTA, stdzer=stdzer\n",
    "    )\n",
    "    rmse_pred = root_mean_squared_error(preds, val_loader.dataset.labels)\n",
    "\n",
    "    return rmse_pred"
   ]
  },
  {
   "cell_type": "code",
   "execution_count": null,
   "id": "43dd4d45",
   "metadata": {},
   "outputs": [],
   "source": [
    "if HYPERPARAM_OPT:\n",
    "    study = optuna.create_study(\n",
    "        direction=\"minimize\",\n",
    "        sampler=optuna.samplers.TPESampler(),\n",
    "        study_name=\"hyperparam_opt_TTA\",\n",
    "    )\n",
    "\n",
    "    study.optimize(objective, n_trials=20, n_jobs=4)\n",
    "\n",
    "    print(f\"Best learning rate for TTA: {study.best_params['learning_rate_TTA']:.4f}\")\n",
    "    print(f\"Best number of steps for TTA: {study.best_params['n_steps_TTA']}\")\n",
    "\n",
    "    study_results = study.trials_dataframe()\n",
    "    study_results.to_csv(\"data/hyperparam_opt_TTA.csv\", index=False)\n",
    "    print(\"Study results saved to hyperparam_opt_TTA.csv\")\n",
    "\n",
    "    learning_rate_TTA = study.best_params[\"learning_rate_TTA\"]\n",
    "    n_steps_TTA = study.best_params[\"n_steps_TTA\"]\n",
    "\n",
    "    torch.cuda.empty_cache()\n",
    "\n",
    "# Standard hyperparameters are the result of a previous hyperparameter optimization\n",
    "else:\n",
    "    learning_rate_TTA = 0.0012\n",
    "    n_steps_TTA = 5"
   ]
  },
  {
   "cell_type": "markdown",
   "id": "68d473ff",
   "metadata": {},
   "source": [
    "### Training without SSL for reference"
   ]
  },
  {
   "cell_type": "code",
   "execution_count": null,
   "id": "3cc13369",
   "metadata": {},
   "outputs": [],
   "source": [
    "model_non_SSL = GNN(\n",
    "    train_loader.dataset.num_node_features,\n",
    "    train_loader.dataset.num_edge_features,\n",
    "    hidden_size=hidden_size,\n",
    "    depth=depth\n",
    ").to(device)\n",
    "\n",
    "optimizer_non_SSL = torch.optim.Adam(\n",
    "    model.parameters(), lr=learning_rate, weight_decay=weight_decay\n",
    ")\n",
    "\n",
    "loss_non_SSL = nn.MSELoss(reduction=\"mean\")\n",
    "print(\"\\n\", model, \"\\n\")"
   ]
  },
  {
   "cell_type": "code",
   "execution_count": null,
   "id": "2e89e60f",
   "metadata": {},
   "outputs": [],
   "source": [
    "# If wanted, we can load an already trained model\n",
    "\n",
    "# Path for the best model\n",
    "model_path = os.path.join(\"trained_models\", \"model_non_SSL.pt\")\n",
    "if LOAD_TRAINED_MODEL and os.path.exists(model_path):\n",
    "    # Load pretrained model\n",
    "    print(f\"Loading model from {model_path}\")\n",
    "    model_non_SSL.load_state_dict(torch.load(model_path))\n",
    "    best_model_non_SSL = deepcopy(model_non_SSL).to(device)\n",
    "    # Skip training\n",
    "    NUM_EPOCHS = 0"
   ]
  },
  {
   "cell_type": "code",
   "execution_count": null,
   "id": "12c22665",
   "metadata": {},
   "outputs": [],
   "source": [
    "best_model_non_SSL = deepcopy(model_non_SSL).to(device)\n",
    "best_val_loss = 1e5\n",
    "\n",
    "train_loss_list = []\n",
    "val_loss_list = []\n",
    "\n",
    "if NUM_EPOCHS == 0:\n",
    "    print(\"Skipping training, previously trained model was loaded.\")\n",
    "\n",
    "for epoch in range(0, NUM_EPOCHS):\n",
    "    train_loss = train_epoch_without_SSL(\n",
    "        model_non_SSL,\n",
    "        train_loader,\n",
    "        optimizer_non_SSL,\n",
    "        loss_non_SSL,\n",
    "        stdzer=stdzer,\n",
    "    )\n",
    "\n",
    "    preds = pred(model_non_SSL, val_loader, mode=\"predict\", stdzer=stdzer)\n",
    "    val_loss = root_mean_squared_error(preds, val_loader.dataset.labels)\n",
    "\n",
    "    print(f\"Epoch {epoch}  Train Loss: {train_loss:.2f}  Val Loss: {val_loss:.2f}\")\n",
    "\n",
    "    train_loss_list.append(train_loss)\n",
    "    val_loss_list.append(val_loss)\n",
    "\n",
    "    if val_loss < best_val_loss:\n",
    "        best_model_non_SSL = deepcopy(model_non_SSL).to(device)\n",
    "        best_val_loss = val_loss\n",
    "\n",
    "        # Save the best model\n",
    "        if SAVE_MODEL:\n",
    "            print(f\"Saving best model based on Val Loss...\")\n",
    "            torch.save(\n",
    "                best_model_non_SSL.state_dict(),\n",
    "                os.path.join(\"trained_models\", f\"model_non_SSL.pt\"),\n",
    "            )"
   ]
  },
  {
   "cell_type": "markdown",
   "id": "ef1a9dd0",
   "metadata": {},
   "source": [
    "# Prediction"
   ]
  },
  {
   "cell_type": "code",
   "execution_count": null,
   "id": "a5ee276b",
   "metadata": {},
   "outputs": [],
   "source": [
    "# Prediction with non-SSL model\n",
    "val_preds_non_SSL = pred(best_model_non_SSL, val_loader, mode=\"predict\", stdzer=stdzer)\n",
    "test_preds_non_SSL_20 = pred(\n",
    "    best_model_non_SSL, test_loader_20, mode=\"predict\", stdzer=stdzer\n",
    ")\n",
    "test_preds_non_SSL_nh = pred(\n",
    "    best_model_non_SSL, test_loader_nh, mode=\"predict\", stdzer=stdzer\n",
    ")\n",
    "\n",
    "print(\"Reference results for model trained without any SSL:\")\n",
    "print(\n",
    "    f\"Val Set RMSE: {root_mean_squared_error(val_preds_non_SSL, val_loader.dataset.labels):.4f}\"\n",
    ")\n",
    "print(\n",
    "    f\"20 Atom Test Set RMSE: {root_mean_squared_error(test_preds_non_SSL_20, test_loader_20.dataset.labels):.4f}\"\n",
    ")\n",
    "print(\n",
    "    f\"NH2 Test Set RMSE: {root_mean_squared_error(test_preds_non_SSL_nh, test_loader_nh.dataset.labels):.4f}\"\n",
    ")"
   ]
  },
  {
   "cell_type": "code",
   "execution_count": null,
   "id": "f04a3ddf",
   "metadata": {},
   "outputs": [],
   "source": [
    "# Prediction with SLL model without TTA\n",
    "val_preds = pred(best_model, val_loader, mode=\"predict\", stdzer=stdzer)\n",
    "test_preds_20 = pred(best_model, test_loader_20, mode=\"predict\", stdzer=stdzer)\n",
    "test_preds_nh = pred(best_model, test_loader_nh, mode=\"predict\", stdzer=stdzer)\n",
    "\n",
    "print(\"Results without TTA:\")\n",
    "print(\n",
    "    f\"Val Set RMSE: {root_mean_squared_error(val_preds, val_loader.dataset.labels):.4f}\"\n",
    ")\n",
    "print(\n",
    "    f\"20 Atom Test Set RMSE: {root_mean_squared_error(test_preds_20, test_loader_20.dataset.labels):.4f}\"\n",
    ")\n",
    "print(\n",
    "    f\"NH2 Test Set RMSE: {root_mean_squared_error(test_preds_nh, test_loader_nh.dataset.labels):.4f}\"\n",
    ")"
   ]
  },
  {
   "cell_type": "code",
   "execution_count": null,
   "id": "b54c4abf",
   "metadata": {},
   "outputs": [],
   "source": [
    "# Prediction with SLL model with TTA\n",
    "# Takes about six times as long as prediction without TTA\n",
    "val_preds_TTA = pred_with_TTA(\n",
    "    best_model, val_loader, lr=learning_rate_TTA, n_steps=n_steps_TTA, stdzer=stdzer\n",
    ")\n",
    "test_preds_TTA_20 = pred_with_TTA(\n",
    "    best_model, test_loader_20, lr=learning_rate_TTA, n_steps=n_steps_TTA, stdzer=stdzer\n",
    ")\n",
    "test_preds_TTA_nh = pred_with_TTA(\n",
    "    best_model, test_loader_nh, lr=learning_rate_TTA, n_steps=n_steps_TTA, stdzer=stdzer\n",
    ")\n",
    "\n",
    "print(\"Results on with TTA:\")\n",
    "print(\n",
    "    f\"Val Set RMSE: {root_mean_squared_error(val_preds_TTA, val_loader.dataset.labels):.4f}\"\n",
    ")\n",
    "print(\n",
    "    f\"20 Atom Test Set RMSE: {root_mean_squared_error(test_preds_TTA_20, test_loader_20.dataset.labels):.4f}\"\n",
    ")\n",
    "print(\n",
    "    f\"NH2 Test Set RMSE: {root_mean_squared_error(test_preds_TTA_nh, test_loader_nh.dataset.labels):.4f}\"\n",
    ")"
   ]
  },
  {
   "cell_type": "markdown",
   "id": "e5ed4839",
   "metadata": {},
   "source": [
    "# Analysis"
   ]
  },
  {
   "cell_type": "markdown",
   "id": "e228728b",
   "metadata": {},
   "source": [
    "### Getting the Embeddings"
   ]
  },
  {
   "cell_type": "code",
   "execution_count": null,
   "id": "c217a5e7",
   "metadata": {},
   "outputs": [],
   "source": [
    "best_model = best_model.to(device)\n",
    "\n",
    "# The embeddings are lists of length \"samples\" of vectors with length \"hidden_size\"\n",
    "train_embeddings = []\n",
    "for batch in train_loader:\n",
    "    batch = batch.to(device)\n",
    "    embedding = best_model.get_embedding(batch)\n",
    "    train_embeddings.extend(embedding.cpu().detach().numpy())\n",
    "\n",
    "val_embeddings = []\n",
    "for batch in val_loader:\n",
    "    batch = batch.to(device)\n",
    "    embedding = best_model.get_embedding(batch)\n",
    "    val_embeddings.extend(embedding.cpu().detach().numpy())\n",
    "\n",
    "test_embeddings_20 = []\n",
    "for batch in test_loader_20:\n",
    "    batch = batch.to(device)\n",
    "    embedding = best_model.get_embedding(batch)\n",
    "    test_embeddings_20.extend(embedding.cpu().detach().numpy())\n",
    "\n",
    "test_embeddings_nh = []\n",
    "for batch in test_loader_nh:\n",
    "    batch = batch.to(device)\n",
    "    embedding = best_model.get_embedding(batch)\n",
    "    test_embeddings_nh.extend(embedding.cpu().detach().numpy())\n",
    "\n",
    "# Combine all embeddings for t-SNE fitting\n",
    "all_embeddings = np.vstack(\n",
    "    [train_embeddings, val_embeddings, test_embeddings_20, test_embeddings_nh]\n",
    ")"
   ]
  },
  {
   "cell_type": "code",
   "execution_count": null,
   "id": "c78d4bd1",
   "metadata": {},
   "outputs": [],
   "source": [
    "# Create and fit t-SNE\n",
    "tsne = TSNE(n_components=2, random_state=42, perplexity=30)\n",
    "all_embeddings_tsne = tsne.fit_transform(all_embeddings)\n",
    "\n",
    "# Split back into individual datasets\n",
    "train_size = len(train_embeddings)\n",
    "val_size = len(val_embeddings)\n",
    "test_size_20 = len(test_embeddings_20)\n",
    "test_size_nh = len(test_embeddings_nh)\n",
    "\n",
    "train_embeddings_tsne = all_embeddings_tsne[:train_size]\n",
    "val_embeddings_tsne = all_embeddings_tsne[train_size : train_size + val_size]\n",
    "test_embeddings_tsne_20 = all_embeddings_tsne[\n",
    "    train_size + val_size : train_size + val_size + test_size_20\n",
    "]\n",
    "test_embeddings_tsne_nh = all_embeddings_tsne[train_size + val_size + test_size_20 :]\n",
    "\n",
    "# Create and fit UMAP for 2D projections\n",
    "umap_reducer = UMAP(\n",
    "    n_components=2,\n",
    ")\n",
    "all_embeddings_umap = umap_reducer.fit_transform(all_embeddings, n_jobs=-1)\n",
    "\n",
    "# Split UMAP results back into individual datasets\n",
    "train_embeddings_umap = all_embeddings_umap[:train_size]\n",
    "val_embeddings_umap = all_embeddings_umap[train_size : train_size + val_size]\n",
    "test_embeddings_umap_20 = all_embeddings_umap[\n",
    "    train_size + val_size : train_size + val_size + test_size_20\n",
    "]\n",
    "test_embeddings_umap_nh = all_embeddings_umap[train_size + val_size + test_size_20 :]\n",
    "\n",
    "val_embeddings_with_TTA = embeddings_with_TTA(\n",
    "    best_model, val_loader, lr=learning_rate_TTA, n_steps=n_steps_TTA\n",
    ")\n",
    "# Also getting the test set embeddings after TTA\n",
    "test_embeddings_with_TTA_20 = embeddings_with_TTA(\n",
    "    best_model, test_loader_20, lr=learning_rate_TTA, n_steps=n_steps_TTA\n",
    ")\n",
    "test_embeddings_with_TTA_nh = embeddings_with_TTA(\n",
    "    best_model, test_loader_nh, lr=learning_rate_TTA, n_steps=n_steps_TTA\n",
    ")\n",
    "\n",
    "val_embeddings_with_TTA_tsne = tsne.fit_transform(np.array(val_embeddings_with_TTA))\n",
    "test_embeddings_with_TTA_tsne_20 = tsne.fit_transform(\n",
    "    np.array(test_embeddings_with_TTA_20)\n",
    ")\n",
    "test_embeddings_with_TTA_umap_20 = umap_reducer.transform(\n",
    "    np.array(test_embeddings_with_TTA_20)\n",
    ")\n",
    "\n",
    "val_embeddings_with_TTA_umap = umap_reducer.transform(np.array(val_embeddings_with_TTA))\n",
    "test_embeddings_with_TTA_tsne_nh = tsne.fit_transform(\n",
    "    np.array(test_embeddings_with_TTA_nh)\n",
    ")\n",
    "test_embeddings_with_TTA_umap_nh = umap_reducer.transform(\n",
    "    np.array(test_embeddings_with_TTA_nh)\n",
    ")\n",
    "\n",
    "# Get the solubility values from each dataset\n",
    "train_solubility = train_loader.dataset.labels\n",
    "val_solubility = val_loader.dataset.labels\n",
    "test_solubility_20 = test_loader_20.dataset.labels\n",
    "test_solubility_nh = test_loader_nh.dataset.labels"
   ]
  },
  {
   "cell_type": "markdown",
   "id": "fb7d2cf6",
   "metadata": {},
   "source": [
    "### Analyzing the Solubility Distribution"
   ]
  },
  {
   "cell_type": "code",
   "execution_count": null,
   "id": "2eb2ea24",
   "metadata": {},
   "outputs": [],
   "source": [
    "solubility_embeddings(\n",
    "    train_solubility,\n",
    "    val_solubility,\n",
    "    test_solubility_20,\n",
    "    test_solubility_nh,\n",
    "    train_embeddings_tsne,\n",
    "    val_embeddings_tsne,\n",
    "    test_embeddings_tsne_20,\n",
    "    test_embeddings_tsne_nh,\n",
    "    train_embeddings_umap,\n",
    "    val_embeddings_umap,\n",
    "    test_embeddings_umap_20,\n",
    "    test_embeddings_umap_nh,\n",
    "    save_plots=SAVE_PLOTS,\n",
    ")"
   ]
  },
  {
   "cell_type": "markdown",
   "id": "4bbbea10",
   "metadata": {},
   "source": [
    "### Analyzing the Class Distribution and Effect of TTA"
   ]
  },
  {
   "cell_type": "code",
   "execution_count": null,
   "id": "2a9fa083",
   "metadata": {},
   "outputs": [],
   "source": [
    "sets_embeddings(\n",
    "    train_embeddings_tsne,\n",
    "    val_embeddings_tsne,\n",
    "    test_embeddings_tsne_20,\n",
    "    test_embeddings_tsne_nh,\n",
    "    train_embeddings_umap,\n",
    "    val_embeddings_umap,\n",
    "    test_embeddings_umap_20,\n",
    "    test_embeddings_umap_nh,\n",
    "    save_plots=SAVE_PLOTS,\n",
    ")"
   ]
  },
  {
   "cell_type": "code",
   "execution_count": null,
   "id": "749e2abc",
   "metadata": {},
   "outputs": [],
   "source": [
    "centroid_embeddings(\n",
    "    train_embeddings_tsne,\n",
    "    val_embeddings_tsne,\n",
    "    val_embeddings_with_TTA_tsne,\n",
    "    test_embeddings_tsne_20,\n",
    "    test_embeddings_tsne_nh,\n",
    "    test_embeddings_with_TTA_tsne_20,\n",
    "    test_embeddings_with_TTA_tsne_nh,\n",
    "    train_embeddings_umap,\n",
    "    val_embeddings_umap,\n",
    "    val_embeddings_with_TTA_umap,\n",
    "    test_embeddings_umap_20,\n",
    "    test_embeddings_umap_nh,\n",
    "    test_embeddings_with_TTA_umap_20,\n",
    "    test_embeddings_with_TTA_umap_nh,\n",
    "    save_plots=SAVE_PLOTS,\n",
    ")"
   ]
  }
 ],
 "metadata": {
  "kernelspec": {
   "display_name": "Python 3",
   "language": "python",
   "name": "python3"
  },
  "language_info": {
   "codemirror_mode": {
    "name": "ipython",
    "version": 3
   },
   "file_extension": ".py",
   "mimetype": "text/x-python",
   "name": "python",
   "nbconvert_exporter": "python",
   "pygments_lexer": "ipython3",
   "version": "3.12.2"
  }
 },
 "nbformat": 4,
 "nbformat_minor": 5
}
